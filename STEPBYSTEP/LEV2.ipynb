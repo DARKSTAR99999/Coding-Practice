{
 "cells": [
  {
   "cell_type": "code",
   "execution_count": 1,
   "id": "0e2236b3-4905-4ef2-b1cc-aeecc9802d1a",
   "metadata": {},
   "outputs": [
    {
     "name": "stdin",
     "output_type": "stream",
     "text": [
      " 20 30\n"
     ]
    },
    {
     "name": "stdout",
     "output_type": "stream",
     "text": [
      "<\n"
     ]
    }
   ],
   "source": [
    "#조건문 ; 두 수 비교하기\n",
    "A,B = map(int,input().split())\n",
    "print('>') if A > B else print('<') if A < B else print('==')"
   ]
  },
  {
   "cell_type": "code",
   "execution_count": 3,
   "id": "8e2e18be-f7a0-4653-8393-38ea0735a3eb",
   "metadata": {},
   "outputs": [
    {
     "name": "stdin",
     "output_type": "stream",
     "text": [
      " 39\n"
     ]
    },
    {
     "name": "stdout",
     "output_type": "stream",
     "text": [
      "F\n"
     ]
    }
   ],
   "source": [
    "#시험 성적\n",
    "N=int(input())\n",
    "print('A') if N >= 90 else print('B') if N >= 80 else print('C') if N >= 70 else print('D') if N >= 60 else print('F')"
   ]
  },
  {
   "cell_type": "code",
   "execution_count": 12,
   "id": "4e770e2c-0ba6-4312-a118-e53e2462736c",
   "metadata": {},
   "outputs": [
    {
     "name": "stdin",
     "output_type": "stream",
     "text": [
      " 2012\n"
     ]
    },
    {
     "name": "stdout",
     "output_type": "stream",
     "text": [
      "1\n"
     ]
    }
   ],
   "source": [
    "#윤년인가 아닌가\n",
    "N=int(input())\n",
    "print('1') if N%4 == 0 and N%100 != 0 or N%400 == 0 else print('0')"
   ]
  },
  {
   "cell_type": "code",
   "execution_count": 1,
   "id": "4328f1c3-5dd3-41c9-ba42-c268f4bb7b2f",
   "metadata": {},
   "outputs": [
    {
     "name": "stdin",
     "output_type": "stream",
     "text": [
      " 2\n",
      " 3\n"
     ]
    },
    {
     "name": "stdout",
     "output_type": "stream",
     "text": [
      "1\n"
     ]
    }
   ],
   "source": [
    "#사분면 고르기\n",
    "A=int(input())\n",
    "B=int(input())\n",
    "if A > 0 and B > 0:\n",
    "    print('1')\n",
    "elif A < 0 and B > 0:\n",
    "    print('2')\n",
    "elif A < 0 and B < 0:\n",
    "    print('3')\n",
    "else:\n",
    "    print('4')"
   ]
  },
  {
   "cell_type": "code",
   "execution_count": 2,
   "id": "946e2393-2f3c-428a-9858-ec4a1b0b499e",
   "metadata": {},
   "outputs": [
    {
     "name": "stdin",
     "output_type": "stream",
     "text": [
      " 11 22\n"
     ]
    },
    {
     "name": "stdout",
     "output_type": "stream",
     "text": [
      "10 : 37\n"
     ]
    }
   ],
   "source": [
    "#알람 시계\n",
    "A,B= map(int, input().split())\n",
    "if B < 45 :\n",
    "    if A == 0 :\n",
    "        A = 23\n",
    "        B += 60\n",
    "    else :\n",
    "        A -= 1\n",
    "        B += 60\n",
    "print(A,':',B-45)"
   ]
  },
  {
   "cell_type": "code",
   "execution_count": 5,
   "id": "e11c01ba-4b41-49f5-bf11-5318b49c5827",
   "metadata": {},
   "outputs": [
    {
     "name": "stdin",
     "output_type": "stream",
     "text": [
      " 11 565\n",
      " 34\n"
     ]
    },
    {
     "name": "stdout",
     "output_type": "stream",
     "text": [
      "12 539\n"
     ]
    }
   ],
   "source": [
    "#오븐 시간\n",
    "A,B= map(int, input().split())\n",
    "C=int(input())\n",
    "\n",
    "A += C // 60\n",
    "B += C % 60\n",
    "\n",
    "if B >= 60:\n",
    "    A += 1\n",
    "    B -= 60\n",
    "\n",
    "    if A >= 24:\n",
    "    B -= 24\n",
    "print(A, B)"
   ]
  },
  {
   "cell_type": "code",
   "execution_count": null,
   "id": "27c329fc-7ef5-48b5-babd-0db9a2c418fb",
   "metadata": {},
   "outputs": [],
   "source": [
    "#주사위 세개\n",
    "A,B,C=map(int, input().split())\n",
    "\n",
    "if A==B==C:\n",
    "    print(10000+(A*1000))\n",
    "elif A==B or A==C:\n",
    "    print(1000+(A*100))\n",
    "elif B==C:\n",
    "    print(1000+(B*100))\n",
    "else:\n",
    "    print(max(A,B,C)*100)"
   ]
  },
  {
   "cell_type": "code",
   "execution_count": null,
   "id": "6757135e-dabe-47bf-8cc1-45e969091ca5",
   "metadata": {},
   "outputs": [],
   "source": []
  }
 ],
 "metadata": {
  "kernelspec": {
   "display_name": "Python 3",
   "language": "python",
   "name": "python3"
  },
  "language_info": {
   "codemirror_mode": {
    "name": "ipython",
    "version": 3
   },
   "file_extension": ".py",
   "mimetype": "text/x-python",
   "name": "python",
   "nbconvert_exporter": "python",
   "pygments_lexer": "ipython3",
   "version": "3.8.8"
  }
 },
 "nbformat": 4,
 "nbformat_minor": 5
}
