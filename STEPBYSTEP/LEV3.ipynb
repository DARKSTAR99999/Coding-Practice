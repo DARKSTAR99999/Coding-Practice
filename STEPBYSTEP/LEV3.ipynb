{
 "cells": [
  {
   "cell_type": "code",
   "execution_count": 2,
   "id": "b55e96bf-4f24-41c8-a605-1aaa40a6173e",
   "metadata": {},
   "outputs": [
    {
     "name": "stdin",
     "output_type": "stream",
     "text": [
      " 2\n"
     ]
    },
    {
     "name": "stdout",
     "output_type": "stream",
     "text": [
      "2 * 1 = 2\n",
      "2 * 2 = 4\n",
      "2 * 3 = 6\n",
      "2 * 4 = 8\n",
      "2 * 5 = 10\n",
      "2 * 6 = 12\n",
      "2 * 7 = 14\n",
      "2 * 8 = 16\n",
      "2 * 9 = 18\n"
     ]
    }
   ],
   "source": [
    "#구구단\n",
    "N = int(input())\n",
    "\n",
    "for i in range(1,10):\n",
    "    print(N,'*',i,'=',N*i)"
   ]
  },
  {
   "cell_type": "code",
   "execution_count": 4,
   "id": "911fcbad-e087-43e5-af14-47c2d4634c60",
   "metadata": {},
   "outputs": [
    {
     "name": "stdin",
     "output_type": "stream",
     "text": [
      " 3\n",
      " 1 1\n"
     ]
    },
    {
     "name": "stdout",
     "output_type": "stream",
     "text": [
      "2\n"
     ]
    },
    {
     "name": "stdin",
     "output_type": "stream",
     "text": [
      " 2 2\n"
     ]
    },
    {
     "name": "stdout",
     "output_type": "stream",
     "text": [
      "4\n"
     ]
    },
    {
     "name": "stdin",
     "output_type": "stream",
     "text": [
      " 3 3\n"
     ]
    },
    {
     "name": "stdout",
     "output_type": "stream",
     "text": [
      "6\n"
     ]
    }
   ],
   "source": [
    "#덧셈 3\n",
    "T=int(input())\n",
    "for _ in range(T):\n",
    "    A,B=map(int,input().split())\n",
    "    print(A+B)"
   ]
  },
  {
   "cell_type": "code",
   "execution_count": 76,
   "id": "0d1fef4a-dd21-4e21-bb51-a46ec0552b1d",
   "metadata": {},
   "outputs": [
    {
     "name": "stdin",
     "output_type": "stream",
     "text": [
      " 5\n"
     ]
    },
    {
     "name": "stdout",
     "output_type": "stream",
     "text": [
      "15\n"
     ]
    }
   ],
   "source": [
    "#합\n",
    "n=int(input())\n",
    "a=0\n",
    "\n",
    "for i in range(1, n+1):\n",
    "    a += i\n",
    "print(a)"
   ]
  },
  {
   "cell_type": "code",
   "execution_count": null,
   "id": "c81ac25b-0afb-4982-926f-3f29230800aa",
   "metadata": {},
   "outputs": [],
   "source": [
    "#빠른 덧셈\n",
    "import sys\n",
    " \n",
    "t = int(input())\n",
    "for i in range(t):\n",
    "        a,b = map(int, sys.stdin.readline().split())\n",
    "        print(a+b)\n"
   ]
  },
  {
   "cell_type": "code",
   "execution_count": 4,
   "id": "b284664e-3731-4932-98f3-eefeb03c88cd",
   "metadata": {},
   "outputs": [
    {
     "name": "stdin",
     "output_type": "stream",
     "text": [
      " 4\n"
     ]
    },
    {
     "name": "stdout",
     "output_type": "stream",
     "text": [
      "1\n",
      "2\n",
      "3\n",
      "4\n"
     ]
    }
   ],
   "source": [
    "#N찍기\n",
    "N = int(input())\n",
    "a=0\n",
    "\n",
    "for i in range(1,N+1):\n",
    "    a=i\n",
    "    print(a)"
   ]
  },
  {
   "cell_type": "code",
   "execution_count": 16,
   "id": "cc0e07dc-5d2c-4450-83a5-8d1cbbcec942",
   "metadata": {},
   "outputs": [
    {
     "name": "stdin",
     "output_type": "stream",
     "text": [
      " 5\n"
     ]
    },
    {
     "name": "stdout",
     "output_type": "stream",
     "text": [
      "5\n",
      "4\n",
      "3\n",
      "2\n",
      "1\n"
     ]
    }
   ],
   "source": [
    "#N찍기 역순\n",
    "N = int(input())\n",
    "a=0\n",
    "\n",
    "for i in range(N, 0, -1):\n",
    "    a=i\n",
    "    print(i)"
   ]
  },
  {
   "cell_type": "code",
   "execution_count": 6,
   "id": "11cc8c97-190c-47cf-81cc-54cf51503cdf",
   "metadata": {},
   "outputs": [
    {
     "name": "stdin",
     "output_type": "stream",
     "text": [
      " 3\n",
      " 2 2\n"
     ]
    },
    {
     "name": "stdout",
     "output_type": "stream",
     "text": [
      "case #1: 4\n"
     ]
    },
    {
     "name": "stdin",
     "output_type": "stream",
     "text": [
      " 3 3\n"
     ]
    },
    {
     "name": "stdout",
     "output_type": "stream",
     "text": [
      "case #2: 6\n"
     ]
    },
    {
     "name": "stdin",
     "output_type": "stream",
     "text": [
      " 4 4\n"
     ]
    },
    {
     "name": "stdout",
     "output_type": "stream",
     "text": [
      "case #3: 8\n"
     ]
    }
   ],
   "source": [
    "#덧셈 7\n",
    "t=int(input())\n",
    "for i in range(1, t+1):\n",
    "    A,B=map(int,input().split())\n",
    "    print('case #'+str(i)+':',A+B)"
   ]
  },
  {
   "cell_type": "code",
   "execution_count": 7,
   "id": "07325e8f-1742-45a2-a72d-5906ece052ff",
   "metadata": {},
   "outputs": [
    {
     "name": "stdin",
     "output_type": "stream",
     "text": [
      " 3\n",
      " 2 2\n"
     ]
    },
    {
     "name": "stdout",
     "output_type": "stream",
     "text": [
      "case #1: 2 + 2 = 4\n"
     ]
    },
    {
     "name": "stdin",
     "output_type": "stream",
     "text": [
      " 4 5\n"
     ]
    },
    {
     "name": "stdout",
     "output_type": "stream",
     "text": [
      "case #2: 4 + 5 = 9\n"
     ]
    },
    {
     "name": "stdin",
     "output_type": "stream",
     "text": [
      " 234 235\n"
     ]
    },
    {
     "name": "stdout",
     "output_type": "stream",
     "text": [
      "case #3: 234 + 235 = 469\n"
     ]
    }
   ],
   "source": [
    "#덧셈 8\n",
    "t=int(input())\n",
    "for i in range(1, t+1):\n",
    "    A,B=map(int,input().split())\n",
    "    print('Case #'+str(i)+':',int(A),'+',int(B),'=',A+B)"
   ]
  },
  {
   "cell_type": "code",
   "execution_count": 8,
   "id": "a546562f-d225-4c86-9ef9-f22bd2a3519c",
   "metadata": {},
   "outputs": [
    {
     "name": "stdin",
     "output_type": "stream",
     "text": [
      " 6\n"
     ]
    },
    {
     "name": "stdout",
     "output_type": "stream",
     "text": [
      "*\n",
      "**\n",
      "***\n",
      "****\n",
      "*****\n",
      "******\n"
     ]
    }
   ],
   "source": [
    "#별 찍기 - 1\n",
    "N = int(input())\n",
    "for i in range(N):\n",
    "    i += 1\n",
    "    print(\"*\" * i)"
   ]
  },
  {
   "cell_type": "code",
   "execution_count": 10,
   "id": "6fc59c8d-bb29-4baf-b305-a8e102eb761f",
   "metadata": {},
   "outputs": [
    {
     "name": "stdin",
     "output_type": "stream",
     "text": [
      " 4\n"
     ]
    },
    {
     "name": "stdout",
     "output_type": "stream",
     "text": [
      "   *\n",
      "  **\n",
      " ***\n",
      "****\n"
     ]
    }
   ],
   "source": [
    "#별 찍기 - 2\n",
    "N = int(input())\n",
    "for i in range(N):\n",
    "    i += 1\n",
    "    print(' '*(N-i)+\"*\" * i)"
   ]
  },
  {
   "cell_type": "code",
   "execution_count": 1,
   "id": "51adf504-18cf-452a-8612-84ece49405d6",
   "metadata": {},
   "outputs": [
    {
     "name": "stdin",
     "output_type": "stream",
     "text": [
      " 2 10\n",
      " 3 4 5 6 7 8\n"
     ]
    },
    {
     "name": "stdout",
     "output_type": "stream",
     "text": [
      "3 4 5 6 7 8 "
     ]
    }
   ],
   "source": [
    "#X보다 작은 수\n",
    "N, X = map(int, input().split())\n",
    "A = list(map(int, input().split()))\n",
    "for i in A:\n",
    "    if i < X:\n",
    "        print(i, end=\" \")"
   ]
  },
  {
   "cell_type": "code",
   "execution_count": null,
   "id": "4591f462-a29b-4a09-bdd8-ca80cadeea05",
   "metadata": {},
   "outputs": [],
   "source": [
    "#덧셈 - 5\n"
   ]
  }
 ],
 "metadata": {
  "kernelspec": {
   "display_name": "Python 3",
   "language": "python",
   "name": "python3"
  },
  "language_info": {
   "codemirror_mode": {
    "name": "ipython",
    "version": 3
   },
   "file_extension": ".py",
   "mimetype": "text/x-python",
   "name": "python",
   "nbconvert_exporter": "python",
   "pygments_lexer": "ipython3",
   "version": "3.8.8"
  },
  "toc-showcode": false
 },
 "nbformat": 4,
 "nbformat_minor": 5
}
